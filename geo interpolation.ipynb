{
 "cells": [
  {
   "cell_type": "code",
   "execution_count": 1,
   "metadata": {
    "collapsed": true
   },
   "outputs": [],
   "source": [
    "### Import important libraries/modules"
   ]
  },
  {
   "cell_type": "code",
   "execution_count": 2,
   "metadata": {
    "collapsed": false
   },
   "outputs": [],
   "source": [
    "#!/usr/bin/env python2.7\n",
    "import matplotlib\n",
    "matplotlib.use('TkAgg')\n",
    "import matplotlib.pyplot as plt\n",
    "from matplotlib import cm\n",
    "import numpy as np\n",
    "from scipy.interpolate import Rbf, griddata, interp2d\n",
    "import json\n",
    "import csv\n",
    "import numpy as np"
   ]
  },
  {
   "cell_type": "code",
   "execution_count": 3,
   "metadata": {
    "collapsed": false
   },
   "outputs": [],
   "source": [
    "import sys\n",
    "import requests\n",
    "import datetime"
   ]
  },
  {
   "cell_type": "code",
   "execution_count": null,
   "metadata": {
    "collapsed": true
   },
   "outputs": [],
   "source": []
  },
  {
   "cell_type": "code",
   "execution_count": 4,
   "metadata": {
    "collapsed": false
   },
   "outputs": [
    {
     "name": "stdout",
     "output_type": "stream",
     "text": [
      "Column names are ['name', 'latitude', 'longitude', 'code', 'temp', '', '', '', '', '']\n",
      "[[144.98, 144.8, 144.48, 145.18, 145.41, 144.91, 144.93, 145.34, 145.12, 144.38, 144.76, 145.1, 145.31, 145.26, 144.13, 144.8, 144.96, 145.1], [-37.83, -37.67, -38.03, -38.36, -37.72, -37.73, -37.95, -37.87, -38.15, -38.17, -37.86, -37.98, -38.46, -37.87, -37.91, -38.31, -37.86, -37.84]]\n"
     ]
    }
   ],
   "source": [
    "## read the csv to fetch list of stations with respective lat-longs in our csv file\n",
    "def get_station_xyz(filename):\n",
    "    x = []; y = []; z = []\n",
    "    with open(filename) as csv_file:\n",
    "        csv_reader = csv.reader(csv_file, delimiter='|')\n",
    "        line_count = 0\n",
    "        for row in csv_reader:\n",
    "            if line_count == 0:\n",
    "                print('Column names are %s' % row)\n",
    "                line_count += 1\n",
    "            else:\n",
    "                x.append(float(row[2]))\n",
    "                y.append(float(row[1]))\n",
    "               # z.append(float(row[4]))\n",
    "                line_count += 1\n",
    "\n",
    "    return x,y\n",
    "\n",
    "(x,y)=get_station_xyz('station_locations.csv')\n",
    "print([x,y])\n",
    "\n",
    "    "
   ]
  },
  {
   "cell_type": "code",
   "execution_count": 5,
   "metadata": {
    "collapsed": false
   },
   "outputs": [],
   "source": [
    "def contexts():\n",
    "    headers={'User-Agent':'Mozilla/5.0'}\n",
    "    url_front=\"http://www.bom.gov.au/fwo/IDV60901/IDV60901.\"\n",
    "    url_end=\".json\"\n",
    "    urls_middle=[\"95936\",\"94866\",\"94854\",\"94898\",\"94864\",\"95866\",\"95872\",\"94872\",\"94871\",\"94857\",\"94865\",\"94870\",\"94892\",\"95867\",\"94863\",\"94853\",\"94864\",\"95874\"]\n",
    "    #places=[\"Melbourne (Olympic Park)\",\"Melbourne Airport\",\"Avalon Airport\", \"Cerberus\", \"Coldstream\", \"Essendon Airport\", \"Fawkner Beacon\",\"Ferny    Creek\",\"Frankston\",\"Geelong Racecourse\",\"Laverton\",\"Moorabbin Airport\",\"Rhyll\",\"Scoresby\",\"Sheoaks\",\"South Channel Island\",\"St Kilda Harbour\",\"Viewbank\"]\n",
    "\n",
    "    id=0;\n",
    "    temp_array=[]\n",
    "    curr_array=[]\n",
    "    time_array=[]\n",
    "    df=[]\n",
    "    d1=[]\n",
    "    for mid in urls_middle:\n",
    "        id=id+1\n",
    "        url_full=url_front+mid+url_end\n",
    "    #print(url_full)\n",
    "        htmltext = requests.get(url_full)\n",
    "        data=htmltext.json()\n",
    "        temp_array=[]\n",
    "        for i in data[\"observations\"][\"data\"]:\n",
    "            temp_array.append(i[\"apparent_t\"])\n",
    "        #temp_array.append(data[\"observations\"][\"data\"][0][\"apparent_t\"])\n",
    "        #curr_t=data[\"observations\"][\"data\"][0][\"air_temp\"]\n",
    "            \n",
    "            new=datetime.datetime.strptime(i[\"aifstime_utc\"],\"%Y%m%d%H%M%S\")\n",
    "            formatted=new.strftime('%Y-%m-%d %H:%M:%S')\n",
    "            time_array.append(formatted)\n",
    "\n",
    "    #        dd2=response.query.results.observations.header;\n",
    "    #           for(i=0;i<dd.length;i++)\n",
    "    #        {times.push(dd[i].local_date_time_full);\n",
    "    #        appT.push(dd[i].apparent_t);\n",
    "    #        currT.push(dd[i].air_temp)\n",
    "        a = map(lambda x: '' if x == None else x, temp_array)\n",
    "        d1= [mid,temp_array,time_array]\n",
    "        \n",
    "        df.append(d1)\n",
    "    return df, data[\"observations\"][\"data\"]\n",
    "\n",
    "df,d=contexts()\n",
    "temp=[]\n",
    "time=[]\n",
    "for i in df:\n",
    "    temp.append(i[1][0])\n",
    "    time.append(i[1][0])\n",
    "t=[0 if v is None else v for v in temp]  # replace nans with 0\n",
    "ave=sum(t)/len(t)\n",
    "t=[ave if v is 0 else v for v in t] # now replace 0s with average -- needed for better interpolation.\n"
   ]
  },
  {
   "cell_type": "code",
   "execution_count": 6,
   "metadata": {
    "collapsed": false
   },
   "outputs": [],
   "source": [
    "## Calculate longitude and latitude max/mins\n",
    "LONG_LIMITS=[float(min(y)), float(max(y))]\n",
    "LAT_LIMITS=[float(min(x)),float(max(x))]\n"
   ]
  },
  {
   "cell_type": "code",
   "execution_count": 7,
   "metadata": {
    "collapsed": false
   },
   "outputs": [
    {
     "name": "stdout",
     "output_type": "stream",
     "text": [
      "[0, 1, 2, 3, 4, 5, 6, 7, 8, 9, 10, 11, 12, 13, 14, 15, 16, 17, 18, 19, 20, 21, 22, 23, 24, 25, 26, 27, 28, 29, 30, 31, 32, 33, 34, 35, 36, 37, 38, 39, 40, 41, 42, 43, 44, 45, 46, 47, 48, 49, 50, 51, 52, 53, 54, 55, 56, 57, 58, 59, 60, 61, 62, 63, 64, 65, 66, 67, 68, 69, 70, 71, 72, 73, 74, 75, 76, 77, 78, 79, 80, 81, 82, 83, 84, 85, 86, 87, 88, 89, 90, 91, 92, 93, 94, 95, 96, 97, 98, 99, 100, 101, 102, 103, 104, 105, 106, 107, 108, 109, 110, 111, 112, 113, 114, 115, 116, 117, 118, 119, 120, 121, 122, 123, 124, 125, 126, 127, 128, 129, 130, 131, 132, 133, 134, 135, 136, 137, 138, 139, 140, 141, 142, 143, 144, 145, 146, 147, 148, 149, 150, 151, 152, 153, 154, 155, 156, 157, 158, 159, 160, 161, 162, 163, 164, 165, 166, 167, 168, 169, 170, 171, 172, 173, 174, 175, 176, 177, 178, 179, 180, 181, 182, 183, 184, 185, 186, 187, 188, 189, 190, 191, 192, 193, 194, 195, 196, 197, 198, 199, 200, 201, 202, 203, 204, 205, 206, 207, 208, 209, 210, 211, 212, 213, 214, 215, 216, 217, 218, 219, 220, 221, 222, 223, 224, 225, 226, 227, 228, 229, 230, 231, 232, 233, 234, 235, 236, 237, 238, 239, 240, 241, 242, 243, 244, 245, 246, 247, 248, 249, 250, 251, 252, 253, 254, 255, 256, 257, 258, 259, 260, 261, 262, 263, 264, 265, 266, 267, 268, 269, 270, 271, 272, 273, 274, 275, 276, 277, 278, 279, 280, 281, 282, 283, 284, 285, 286, 287, 288, 289, 290, 291, 292, 293, 294, 295, 296, 297, 298, 299, 300, 301, 302, 303, 304, 305, 306, 307, 308, 309, 310, 311, 312, 313, 314, 315, 316, 317, 318, 319, 320, 321, 322, 323, 324, 325, 326, 327, 328, 329, 330, 331, 332, 333, 334, 335, 336, 337, 338, 339, 340, 341, 342, 343, 344, 345, 346, 347, 348, 349, 350, 351, 352, 353, 354, 355, 356, 357, 358, 359, 360, 361, 362, 363, 364, 365, 366, 367, 368, 369, 370, 371, 372, 373, 374, 375, 376, 377, 378, 379, 380, 381, 382, 383, 384, 385, 386, 387, 388, 389, 390, 391, 392, 393, 394, 395, 396, 397, 398, 399]\n",
      "[20.927884614306549, 20.681199093376847, 20.534282087836289, 20.476938102593579, 20.48647142717806, 20.527391657656096, 20.561232159161762, 20.56149213767236, 20.520595081954184, 20.446171153672708, 20.360783190049631, 20.308546053741168, 20.337191355039124, 20.445075917305076, 20.550148767666826, 20.52602752083294, 20.279169123920838, 19.806319596814035, 19.19345304333541, 18.569761574822621, 20.401468443416832, 20.161940787767264, 20.026560993505711, 19.982722982456153, 20.001240261382463, 20.034589044210634, 20.031668415910872, 19.962179387225831, 19.82802130523396, 19.655312724072473, 19.489245451905504, 19.401713979595229, 19.465789162170381, 19.678298492012345, 19.916746216567219, 19.995710532734734, 19.779689702470137, 19.26175536275764, 18.555870496331806, 17.82942378606333, 19.902716941947688, 19.676314926659416, 19.559027777333313, 19.53481790347746, 19.565594940143171, 19.586573392462981, 19.527831382630382, 19.353023751115245, 19.07794632692304, 18.757249107641826, 18.471641471661314, 18.333336278952345, 18.448023628137264, 18.806630058595545, 19.229292335294133, 19.450788474563979, 19.281911601796878, 18.714402215505118, 17.900846027104478, 17.057847713596686, 19.437600963906959, 19.233467595894865, 19.144811569518367, 19.150608717579132, 19.200663263829199, 19.20625485736781, 19.070835808097172, 18.749196966587192, 18.27599008532161, 17.746289878994446, 17.293145656436764, 17.085335810621018, 17.268713823346729, 17.821759237029283, 18.486988440182415, 18.894893197257431, 18.789296060027027, 18.164586740703072, 17.2253367121927, 16.25053077597903, 19.011538289842917, 18.842485380314656, 18.798015294492359, 18.849719177649092, 18.930896672430833, 18.920925277109916, 18.688222778955378, 18.176532938058642, 17.444833529220602, 16.640387558965188, 15.966490528394729, 15.666788902892051, 15.935587606544658, 16.732109365679094, 17.699854151649873, 18.338387413740918, 18.309901382203464, 17.616104374524724, 16.528987024465039, 15.40539235379299, 18.628221649896318, 18.510449447533574, 18.530975425906831, 18.650523455694554, 18.77977979031516, 18.757477500509196, 18.410014343262617, 17.670561927900337, 16.628535854395238, 15.492037175371081, 14.547953940331325, 14.131129706615809, 14.494450875281188, 15.574108336159952, 16.895520108024471, 17.802167166997322, 17.859432910853684, 17.079278377935935, 15.816878102520917, 14.52514792592288, 18.288296126428577, 18.239676995698971, 18.349548733182587, 18.563324814560474, 18.761245816129929, 18.733116675013662, 18.260435302644169, 17.270945343689448, 15.891122462278929, 14.392233396652841, 13.147028944303855, 12.590241486508575, 13.045096220645092, 14.426710675447367, 16.130001859173376, 17.3251078098763, 17.467175811522992, 16.575877884721734, 15.103318604505148, 13.620438969519711, 17.988454647125934, 18.025001042027043, 18.247369138241197, 18.580950191043144, 18.867527881927856, 18.842646548850269, 18.246466981463982, 17.011767338272932, 15.3084429842541, 13.464891965591846, 11.926360299432474, 11.222176263335854, 11.755164893450939, 13.427254745995555, 15.502212477713044, 16.976068540600977, 17.18526606325895, 16.145550558324629, 14.416268871517786, 12.713643833580846, 17.721762224388442, 17.852817200856805, 18.202233917091007, 18.671468494249154, 19.059097273505188, 19.047873683561363, 18.347777434204318, 16.910814284919752, 14.955098775990024, 12.852566413626874, 11.091373044767181, 10.269113518762566, 10.864958361077271, 12.778946962301887, 15.162585077483186, 16.862717157131641, 17.095438020784599, 15.8500611464587, 13.800837598676708, 11.84312350278114, 17.479794303815254, 17.70361405282074, 18.178686403941072, 18.780416792035055, 19.266293208039883, 19.278280229543668, 18.515028135581815, 16.962417622073133, 14.888761940129825, 12.692875968805964, 10.864429100823429, 10.014628654487552, 10.66629889243859, 12.728140153563572, 15.292637590366667, 17.11724422732604, 17.299689130447859, 15.768499467440222, 13.319684552293694, 11.067689894923149, 17.256293859568245, 17.558026466041895, 18.137891171846093, 18.845674684827031, 19.40793056222202, 19.44898190847772, 18.681505292458496, 17.137161302024992, 15.133284100817264, 13.082490389449873, 11.431615162313079, 10.718715161513529, 11.428180609737439, 13.484217376030557, 16.032206486988116, 17.841019851529978, 17.883632137674795, 15.978595472233593, 13.049373798560225, 10.471167492987661, 17.050842674213982, 17.403918910071582, 18.050527436469451, 18.818488746019455, 19.419620947109479, 19.490265874380441, 18.78467194312276, 17.387809968223536, 15.662678757578959, 14.030202278046204, 12.856016779703651, 12.492757993708977, 13.249368965352346, 15.075930698839841, 17.362898358341454, 19.019761603671157, 18.860043809541679, 16.527807309650996, 13.07392969714067, 10.165719892311898, 16.870299972912335, 17.240682946003574, 17.905771089584618, 18.678758445866322, 19.275202820915581, 19.37124042322472, 18.784895053808953, 17.657151395804419, 16.391723792734808, 15.415977725370908, 14.983256764561673, 15.144060885689044, 15.87816755314708, 17.20577241257341, 19.015953281624007, 20.462458864964177, 20.124218434882792, 17.407397874090293, 13.476482946916207, 10.288127659309112, 16.72640712687496, 17.078195776873542, 17.712038965519412, 18.436986912624604, 18.989107840608483, 19.102692271078979, 18.669820589730875, 17.884490647504606, 17.182467700086448, 16.988709097451363, 17.413120637927108, 18.114523173301734, 18.660113017955609, 19.259263412140101, 20.518621320952462, 21.834656609764153, 21.462424526981266, 18.545650948890483, 14.324631444636225, 10.976687043614419, 16.630405084706183, 16.931254440331429, 17.490548392930066, 18.124697836896985, 18.602290048256862, 18.721847825484758, 18.446271032504853, 18.012506633925, 17.872764936187764, 18.427640042976662, 19.612579208349786, 20.667912801257529, 20.808041250025255, 20.606665830068209, 21.435503382844189, 22.810161778756807, 22.632823687127882, 19.828591524482107, 15.641675897825451, 12.318586615184188, 16.588250829545871, 16.813389182720357, 17.266567055757037, 17.781184052053618, 18.164257956452616, 18.274210853933994, 18.131142370998248, 17.997953035609299, 18.321124816964897, 19.450353666976639, 21.139267390944326, 22.27565796067546, 21.897041929530047, 21.040405003749228, 21.659284528385953, 23.255933018807497, 23.482012245202384, 21.139031664986277, 17.369217230635002, 14.282902948000213, 16.599726033989157, 16.733797561539973, 17.063003195499505, 17.44347008994464, 17.720927979349142, 17.803122063681542, 17.748570074369695, 17.825210166113095, 18.450466080669827, 19.90904278150461, 21.81729337105412, 22.867466539160233, 22.097785814744782, 20.895547489706487, 21.467518673374201, 23.297228413327446, 24.012229122397542, 22.388933203854236, 19.352263794410504, 16.688451809758675, 16.661068498073064, 16.697833132761957, 16.897866853762366, 17.141658541856089, 17.309952797759138, 17.347177977891079, 17.331497897595398, 17.516157043541767, 18.2718860568053, 19.824631252660197, 21.743259700304833, 22.718616587522177, 21.882939678785107, 20.688351292853426, 21.269971099940321, 23.201795336294595, 24.344421872205587, 23.526293353537113, 21.375133759547822, 19.247594434266631, 16.768191108490896, 16.708876338184723, 16.784387182472642, 16.898237409620947, 16.960532224598921, 16.940773412215037, 16.921921617859198, 17.128872963227536, 17.87778786053812, 19.354218303535077, 21.170131035086797, 22.171120972247166, 21.602517833025018, 20.70498926020754, 21.316191919153866, 23.195949770526923, 24.618237382415515, 24.523861459849172, 23.232808693367275, 21.666999070965772, 16.918447045802225, 16.769677628329987, 16.73197808855582, 16.72906196086808, 16.694505247488905, 16.614011765692965, 16.566314060205855, 16.742690644669722, 17.406333353654816, 18.719149173843675, 20.386575352546771, 21.485404944623781, 21.37166723092119, 20.939294269478324, 21.621599796482144, 23.367100988282374, 24.916885631598092, 25.369270779217572, 24.792020844376935, 23.741231612705832]\n"
     ]
    }
   ],
   "source": [
    "def get_meshgrid(x,y,z,LONG_LIMITS,LAT_LIMITS,gridsize):\n",
    "    gridsize=20\n",
    "\n",
    "    XI, YI = np.meshgrid(\n",
    "        np.linspace(LAT_LIMITS[0], LAT_LIMITS[1], gridsize),\n",
    "        np.linspace(LONG_LIMITS[0], LONG_LIMITS[1], gridsize)\n",
    "        )\n",
    "    rbf = Rbf(x, y, z, method='nearest')  # uses SCIPY Interpolate RBF - Radial Basis Function - nearest neighbour mode for interpolation\n",
    "    ZI = rbf(XI, YI)\n",
    "    return (x, y, z), (XI, YI, ZI)\n",
    "\n",
    "(x,y,t),(XI,YI,ZI)=get_meshgrid(x,y,t,LONG_LIMITS,LAT_LIMITS,gridsize=20)\n",
    "\n",
    "#print(ZI)\n",
    "# determine way to print data in the format we use for the d3js graph\n",
    "newline=ZI.flatten()\n",
    "count=0;\n",
    "t=[]\n",
    "for i in newline:\n",
    "    t.append(count)\n",
    "    count+=1\n",
    "    \n",
    "print(t)\n",
    "    \n",
    "print(list(newline))\n",
    "with open('file_to_write', 'w') as f:\n",
    "    f.write('%s' % t)\n",
    "    f.write('%s' % list(newline))\n",
    "    \n",
    "f.close()\n"
   ]
  },
  {
   "cell_type": "code",
   "execution_count": null,
   "metadata": {
    "collapsed": false
   },
   "outputs": [],
   "source": []
  },
  {
   "cell_type": "code",
   "execution_count": null,
   "metadata": {
    "collapsed": true
   },
   "outputs": [],
   "source": []
  },
  {
   "cell_type": "code",
   "execution_count": 9,
   "metadata": {
    "collapsed": false
   },
   "outputs": [
    {
     "ename": "ValueError",
     "evalue": "to_rgba: Invalid rgba arg \"0\"\nto_rgb: Invalid rgb arg \"0\"\ncannot convert argument to rgb sequence",
     "output_type": "error",
     "traceback": [
      "\u001b[0;31m---------------------------------------------------------------------------\u001b[0m",
      "\u001b[0;31mValueError\u001b[0m                                Traceback (most recent call last)",
      "\u001b[0;32mC:\\Users\\Rebecca\\Anaconda3\\lib\\site-packages\\matplotlib\\colors.py\u001b[0m in \u001b[0;36mto_rgba\u001b[0;34m(self, arg, alpha)\u001b[0m\n\u001b[1;32m    367\u001b[0m                     raise ValueError(\n\u001b[0;32m--> 368\u001b[0;31m                             'length of rgba sequence should be either 3 or 4')\n\u001b[0m\u001b[1;32m    369\u001b[0m             \u001b[1;32melse\u001b[0m\u001b[1;33m:\u001b[0m\u001b[1;33m\u001b[0m\u001b[0m\n",
      "\u001b[0;31mValueError\u001b[0m: length of rgba sequence should be either 3 or 4",
      "\nDuring handling of the above exception, another exception occurred:\n",
      "\u001b[0;31mValueError\u001b[0m                                Traceback (most recent call last)",
      "\u001b[0;32mC:\\Users\\Rebecca\\Anaconda3\\lib\\site-packages\\matplotlib\\colors.py\u001b[0m in \u001b[0;36mto_rgba_array\u001b[0;34m(self, c, alpha)\u001b[0m\n\u001b[1;32m    398\u001b[0m             \u001b[1;31m# Single value? Put it in an array with a single row.\u001b[0m\u001b[1;33m\u001b[0m\u001b[1;33m\u001b[0m\u001b[0m\n\u001b[0;32m--> 399\u001b[0;31m             \u001b[1;32mreturn\u001b[0m \u001b[0mnp\u001b[0m\u001b[1;33m.\u001b[0m\u001b[0marray\u001b[0m\u001b[1;33m(\u001b[0m\u001b[1;33m[\u001b[0m\u001b[0mself\u001b[0m\u001b[1;33m.\u001b[0m\u001b[0mto_rgba\u001b[0m\u001b[1;33m(\u001b[0m\u001b[0mc\u001b[0m\u001b[1;33m,\u001b[0m \u001b[0malpha\u001b[0m\u001b[1;33m)\u001b[0m\u001b[1;33m]\u001b[0m\u001b[1;33m,\u001b[0m \u001b[0mdtype\u001b[0m\u001b[1;33m=\u001b[0m\u001b[0mnp\u001b[0m\u001b[1;33m.\u001b[0m\u001b[0mfloat\u001b[0m\u001b[1;33m)\u001b[0m\u001b[1;33m\u001b[0m\u001b[0m\n\u001b[0m\u001b[1;32m    400\u001b[0m         \u001b[1;32mexcept\u001b[0m \u001b[0mValueError\u001b[0m\u001b[1;33m:\u001b[0m\u001b[1;33m\u001b[0m\u001b[0m\n",
      "\u001b[0;32mC:\\Users\\Rebecca\\Anaconda3\\lib\\site-packages\\matplotlib\\colors.py\u001b[0m in \u001b[0;36mto_rgba\u001b[0;34m(self, arg, alpha)\u001b[0m\n\u001b[1;32m    375\u001b[0m             raise ValueError(\n\u001b[0;32m--> 376\u001b[0;31m                 'to_rgba: Invalid rgba arg \"%s\"\\n%s' % (str(arg), exc))\n\u001b[0m\u001b[1;32m    377\u001b[0m \u001b[1;33m\u001b[0m\u001b[0m\n",
      "\u001b[0;31mValueError\u001b[0m: to_rgba: Invalid rgba arg \"[0, 1, 2, 3, 4, 5, 6, 7, 8, 9, 10, 11, 12, 13, 14, 15, 16, 17, 18, 19, 20, 21, 22, 23, 24, 25, 26, 27, 28, 29, 30, 31, 32, 33, 34, 35, 36, 37, 38, 39, 40, 41, 42, 43, 44, 45, 46, 47, 48, 49, 50, 51, 52, 53, 54, 55, 56, 57, 58, 59, 60, 61, 62, 63, 64, 65, 66, 67, 68, 69, 70, 71, 72, 73, 74, 75, 76, 77, 78, 79, 80, 81, 82, 83, 84, 85, 86, 87, 88, 89, 90, 91, 92, 93, 94, 95, 96, 97, 98, 99, 100, 101, 102, 103, 104, 105, 106, 107, 108, 109, 110, 111, 112, 113, 114, 115, 116, 117, 118, 119, 120, 121, 122, 123, 124, 125, 126, 127, 128, 129, 130, 131, 132, 133, 134, 135, 136, 137, 138, 139, 140, 141, 142, 143, 144, 145, 146, 147, 148, 149, 150, 151, 152, 153, 154, 155, 156, 157, 158, 159, 160, 161, 162, 163, 164, 165, 166, 167, 168, 169, 170, 171, 172, 173, 174, 175, 176, 177, 178, 179, 180, 181, 182, 183, 184, 185, 186, 187, 188, 189, 190, 191, 192, 193, 194, 195, 196, 197, 198, 199, 200, 201, 202, 203, 204, 205, 206, 207, 208, 209, 210, 211, 212, 213, 214, 215, 216, 217, 218, 219, 220, 221, 222, 223, 224, 225, 226, 227, 228, 229, 230, 231, 232, 233, 234, 235, 236, 237, 238, 239, 240, 241, 242, 243, 244, 245, 246, 247, 248, 249, 250, 251, 252, 253, 254, 255, 256, 257, 258, 259, 260, 261, 262, 263, 264, 265, 266, 267, 268, 269, 270, 271, 272, 273, 274, 275, 276, 277, 278, 279, 280, 281, 282, 283, 284, 285, 286, 287, 288, 289, 290, 291, 292, 293, 294, 295, 296, 297, 298, 299, 300, 301, 302, 303, 304, 305, 306, 307, 308, 309, 310, 311, 312, 313, 314, 315, 316, 317, 318, 319, 320, 321, 322, 323, 324, 325, 326, 327, 328, 329, 330, 331, 332, 333, 334, 335, 336, 337, 338, 339, 340, 341, 342, 343, 344, 345, 346, 347, 348, 349, 350, 351, 352, 353, 354, 355, 356, 357, 358, 359, 360, 361, 362, 363, 364, 365, 366, 367, 368, 369, 370, 371, 372, 373, 374, 375, 376, 377, 378, 379, 380, 381, 382, 383, 384, 385, 386, 387, 388, 389, 390, 391, 392, 393, 394, 395, 396, 397, 398, 399]\"\nlength of rgba sequence should be either 3 or 4",
      "\nDuring handling of the above exception, another exception occurred:\n",
      "\u001b[0;31mValueError\u001b[0m                                Traceback (most recent call last)",
      "\u001b[0;32mC:\\Users\\Rebecca\\Anaconda3\\lib\\site-packages\\matplotlib\\colors.py\u001b[0m in \u001b[0;36mto_rgb\u001b[0;34m(self, arg)\u001b[0m\n\u001b[1;32m    321\u001b[0m                 raise ValueError(\n\u001b[0;32m--> 322\u001b[0;31m                     'cannot convert argument to rgb sequence')\n\u001b[0m\u001b[1;32m    323\u001b[0m \u001b[1;33m\u001b[0m\u001b[0m\n",
      "\u001b[0;31mValueError\u001b[0m: cannot convert argument to rgb sequence",
      "\nDuring handling of the above exception, another exception occurred:\n",
      "\u001b[0;31mValueError\u001b[0m                                Traceback (most recent call last)",
      "\u001b[0;32mC:\\Users\\Rebecca\\Anaconda3\\lib\\site-packages\\matplotlib\\colors.py\u001b[0m in \u001b[0;36mto_rgba\u001b[0;34m(self, arg, alpha)\u001b[0m\n\u001b[1;32m    369\u001b[0m             \u001b[1;32melse\u001b[0m\u001b[1;33m:\u001b[0m\u001b[1;33m\u001b[0m\u001b[0m\n\u001b[0;32m--> 370\u001b[0;31m                 \u001b[0mr\u001b[0m\u001b[1;33m,\u001b[0m \u001b[0mg\u001b[0m\u001b[1;33m,\u001b[0m \u001b[0mb\u001b[0m \u001b[1;33m=\u001b[0m \u001b[0mself\u001b[0m\u001b[1;33m.\u001b[0m\u001b[0mto_rgb\u001b[0m\u001b[1;33m(\u001b[0m\u001b[0marg\u001b[0m\u001b[1;33m)\u001b[0m\u001b[1;33m\u001b[0m\u001b[0m\n\u001b[0m\u001b[1;32m    371\u001b[0m             \u001b[1;32mif\u001b[0m \u001b[0malpha\u001b[0m \u001b[1;32mis\u001b[0m \u001b[1;32mNone\u001b[0m\u001b[1;33m:\u001b[0m\u001b[1;33m\u001b[0m\u001b[0m\n",
      "\u001b[0;32mC:\\Users\\Rebecca\\Anaconda3\\lib\\site-packages\\matplotlib\\colors.py\u001b[0m in \u001b[0;36mto_rgb\u001b[0;34m(self, arg)\u001b[0m\n\u001b[1;32m    327\u001b[0m             raise ValueError(\n\u001b[0;32m--> 328\u001b[0;31m                 'to_rgb: Invalid rgb arg \"%s\"\\n%s' % (str(arg), exc))\n\u001b[0m\u001b[1;32m    329\u001b[0m             \u001b[1;31m# Error messages could be improved by handling TypeError\u001b[0m\u001b[1;33m\u001b[0m\u001b[1;33m\u001b[0m\u001b[0m\n",
      "\u001b[0;31mValueError\u001b[0m: to_rgb: Invalid rgb arg \"0\"\ncannot convert argument to rgb sequence",
      "\nDuring handling of the above exception, another exception occurred:\n",
      "\u001b[0;31mValueError\u001b[0m                                Traceback (most recent call last)",
      "\u001b[0;32m<ipython-input-9-18555e08afb2>\u001b[0m in \u001b[0;36m<module>\u001b[0;34m()\u001b[0m\n\u001b[1;32m     10\u001b[0m     \u001b[0mplt\u001b[0m\u001b[1;33m.\u001b[0m\u001b[0mshow\u001b[0m\u001b[1;33m(\u001b[0m\u001b[1;33m)\u001b[0m\u001b[1;33m\u001b[0m\u001b[0m\n\u001b[1;32m     11\u001b[0m \u001b[1;33m\u001b[0m\u001b[0m\n\u001b[0;32m---> 12\u001b[0;31m \u001b[0mplot_rbf\u001b[0m\u001b[1;33m(\u001b[0m\u001b[0mx\u001b[0m\u001b[1;33m,\u001b[0m \u001b[0my\u001b[0m\u001b[1;33m,\u001b[0m \u001b[0mt\u001b[0m\u001b[1;33m,\u001b[0m \u001b[0mXI\u001b[0m\u001b[1;33m,\u001b[0m \u001b[0mYI\u001b[0m\u001b[1;33m,\u001b[0m \u001b[0mZI\u001b[0m\u001b[1;33m)\u001b[0m\u001b[1;33m\u001b[0m\u001b[0m\n\u001b[0m",
      "\u001b[0;32m<ipython-input-9-18555e08afb2>\u001b[0m in \u001b[0;36mplot_rbf\u001b[0;34m(x, y, z, XI, YI, ZI)\u001b[0m\n\u001b[1;32m      3\u001b[0m     \u001b[0mplt\u001b[0m\u001b[1;33m.\u001b[0m\u001b[0msubplot\u001b[0m\u001b[1;33m(\u001b[0m\u001b[1;36m1\u001b[0m\u001b[1;33m,\u001b[0m \u001b[1;36m1\u001b[0m\u001b[1;33m,\u001b[0m \u001b[1;36m1\u001b[0m\u001b[1;33m)\u001b[0m\u001b[1;33m\u001b[0m\u001b[0m\n\u001b[1;32m      4\u001b[0m     \u001b[0mplt\u001b[0m\u001b[1;33m.\u001b[0m\u001b[0mpcolor\u001b[0m\u001b[1;33m(\u001b[0m\u001b[0mXI\u001b[0m\u001b[1;33m,\u001b[0m \u001b[0mYI\u001b[0m\u001b[1;33m,\u001b[0m \u001b[0mZI\u001b[0m\u001b[1;33m,\u001b[0m \u001b[0mcmap\u001b[0m\u001b[1;33m=\u001b[0m\u001b[0mcm\u001b[0m\u001b[1;33m.\u001b[0m\u001b[0mjet\u001b[0m\u001b[1;33m)\u001b[0m\u001b[1;33m\u001b[0m\u001b[0m\n\u001b[0;32m----> 5\u001b[0;31m     \u001b[0mplt\u001b[0m\u001b[1;33m.\u001b[0m\u001b[0mscatter\u001b[0m\u001b[1;33m(\u001b[0m\u001b[0mx\u001b[0m\u001b[1;33m,\u001b[0m \u001b[0my\u001b[0m\u001b[1;33m,\u001b[0m \u001b[1;36m100\u001b[0m\u001b[1;33m,\u001b[0m \u001b[0mz\u001b[0m\u001b[1;33m,\u001b[0m \u001b[0mcmap\u001b[0m\u001b[1;33m=\u001b[0m\u001b[0mcm\u001b[0m\u001b[1;33m.\u001b[0m\u001b[0mjet\u001b[0m\u001b[1;33m)\u001b[0m\u001b[1;33m\u001b[0m\u001b[0m\n\u001b[0m\u001b[1;32m      6\u001b[0m     \u001b[0mplt\u001b[0m\u001b[1;33m.\u001b[0m\u001b[0mtitle\u001b[0m\u001b[1;33m(\u001b[0m\u001b[1;34m'RBF interpolation - multiquadrics'\u001b[0m\u001b[1;33m)\u001b[0m\u001b[1;33m\u001b[0m\u001b[0m\n\u001b[1;32m      7\u001b[0m     \u001b[1;31m#plt.xlim(-2, 2)\u001b[0m\u001b[1;33m\u001b[0m\u001b[1;33m\u001b[0m\u001b[0m\n",
      "\u001b[0;32mC:\\Users\\Rebecca\\Anaconda3\\lib\\site-packages\\matplotlib\\pyplot.py\u001b[0m in \u001b[0;36mscatter\u001b[0;34m(x, y, s, c, marker, cmap, norm, vmin, vmax, alpha, linewidths, verts, edgecolors, hold, data, **kwargs)\u001b[0m\n\u001b[1;32m   3256\u001b[0m                          \u001b[0mvmin\u001b[0m\u001b[1;33m=\u001b[0m\u001b[0mvmin\u001b[0m\u001b[1;33m,\u001b[0m \u001b[0mvmax\u001b[0m\u001b[1;33m=\u001b[0m\u001b[0mvmax\u001b[0m\u001b[1;33m,\u001b[0m \u001b[0malpha\u001b[0m\u001b[1;33m=\u001b[0m\u001b[0malpha\u001b[0m\u001b[1;33m,\u001b[0m\u001b[1;33m\u001b[0m\u001b[0m\n\u001b[1;32m   3257\u001b[0m                          \u001b[0mlinewidths\u001b[0m\u001b[1;33m=\u001b[0m\u001b[0mlinewidths\u001b[0m\u001b[1;33m,\u001b[0m \u001b[0mverts\u001b[0m\u001b[1;33m=\u001b[0m\u001b[0mverts\u001b[0m\u001b[1;33m,\u001b[0m\u001b[1;33m\u001b[0m\u001b[0m\n\u001b[0;32m-> 3258\u001b[0;31m                          edgecolors=edgecolors, data=data, **kwargs)\n\u001b[0m\u001b[1;32m   3259\u001b[0m     \u001b[1;32mfinally\u001b[0m\u001b[1;33m:\u001b[0m\u001b[1;33m\u001b[0m\u001b[0m\n\u001b[1;32m   3260\u001b[0m         \u001b[0max\u001b[0m\u001b[1;33m.\u001b[0m\u001b[0mhold\u001b[0m\u001b[1;33m(\u001b[0m\u001b[0mwashold\u001b[0m\u001b[1;33m)\u001b[0m\u001b[1;33m\u001b[0m\u001b[0m\n",
      "\u001b[0;32mC:\\Users\\Rebecca\\Anaconda3\\lib\\site-packages\\matplotlib\\__init__.py\u001b[0m in \u001b[0;36minner\u001b[0;34m(ax, *args, **kwargs)\u001b[0m\n\u001b[1;32m   1816\u001b[0m                     warnings.warn(msg % (label_namer, func.__name__),\n\u001b[1;32m   1817\u001b[0m                                   RuntimeWarning, stacklevel=2)\n\u001b[0;32m-> 1818\u001b[0;31m             \u001b[1;32mreturn\u001b[0m \u001b[0mfunc\u001b[0m\u001b[1;33m(\u001b[0m\u001b[0max\u001b[0m\u001b[1;33m,\u001b[0m \u001b[1;33m*\u001b[0m\u001b[0margs\u001b[0m\u001b[1;33m,\u001b[0m \u001b[1;33m**\u001b[0m\u001b[0mkwargs\u001b[0m\u001b[1;33m)\u001b[0m\u001b[1;33m\u001b[0m\u001b[0m\n\u001b[0m\u001b[1;32m   1819\u001b[0m         \u001b[0mpre_doc\u001b[0m \u001b[1;33m=\u001b[0m \u001b[0minner\u001b[0m\u001b[1;33m.\u001b[0m\u001b[0m__doc__\u001b[0m\u001b[1;33m\u001b[0m\u001b[0m\n\u001b[1;32m   1820\u001b[0m         \u001b[1;32mif\u001b[0m \u001b[0mpre_doc\u001b[0m \u001b[1;32mis\u001b[0m \u001b[1;32mNone\u001b[0m\u001b[1;33m:\u001b[0m\u001b[1;33m\u001b[0m\u001b[0m\n",
      "\u001b[0;32mC:\\Users\\Rebecca\\Anaconda3\\lib\\site-packages\\matplotlib\\axes\\_axes.py\u001b[0m in \u001b[0;36mscatter\u001b[0;34m(self, x, y, s, c, marker, cmap, norm, vmin, vmax, alpha, linewidths, verts, edgecolors, **kwargs)\u001b[0m\n\u001b[1;32m   3864\u001b[0m                 \u001b[0moffsets\u001b[0m\u001b[1;33m=\u001b[0m\u001b[0moffsets\u001b[0m\u001b[1;33m,\u001b[0m\u001b[1;33m\u001b[0m\u001b[0m\n\u001b[1;32m   3865\u001b[0m                 \u001b[0mtransOffset\u001b[0m\u001b[1;33m=\u001b[0m\u001b[0mkwargs\u001b[0m\u001b[1;33m.\u001b[0m\u001b[0mpop\u001b[0m\u001b[1;33m(\u001b[0m\u001b[1;34m'transform'\u001b[0m\u001b[1;33m,\u001b[0m \u001b[0mself\u001b[0m\u001b[1;33m.\u001b[0m\u001b[0mtransData\u001b[0m\u001b[1;33m)\u001b[0m\u001b[1;33m,\u001b[0m\u001b[1;33m\u001b[0m\u001b[0m\n\u001b[0;32m-> 3866\u001b[0;31m                 \u001b[0malpha\u001b[0m\u001b[1;33m=\u001b[0m\u001b[0malpha\u001b[0m\u001b[1;33m\u001b[0m\u001b[0m\n\u001b[0m\u001b[1;32m   3867\u001b[0m                 )\n\u001b[1;32m   3868\u001b[0m         \u001b[0mcollection\u001b[0m\u001b[1;33m.\u001b[0m\u001b[0mset_transform\u001b[0m\u001b[1;33m(\u001b[0m\u001b[0mmtransforms\u001b[0m\u001b[1;33m.\u001b[0m\u001b[0mIdentityTransform\u001b[0m\u001b[1;33m(\u001b[0m\u001b[1;33m)\u001b[0m\u001b[1;33m)\u001b[0m\u001b[1;33m\u001b[0m\u001b[0m\n",
      "\u001b[0;32mC:\\Users\\Rebecca\\Anaconda3\\lib\\site-packages\\matplotlib\\collections.py\u001b[0m in \u001b[0;36m__init__\u001b[0;34m(self, paths, sizes, **kwargs)\u001b[0m\n\u001b[1;32m    829\u001b[0m         \"\"\"\n\u001b[1;32m    830\u001b[0m \u001b[1;33m\u001b[0m\u001b[0m\n\u001b[0;32m--> 831\u001b[0;31m         \u001b[0mCollection\u001b[0m\u001b[1;33m.\u001b[0m\u001b[0m__init__\u001b[0m\u001b[1;33m(\u001b[0m\u001b[0mself\u001b[0m\u001b[1;33m,\u001b[0m \u001b[1;33m**\u001b[0m\u001b[0mkwargs\u001b[0m\u001b[1;33m)\u001b[0m\u001b[1;33m\u001b[0m\u001b[0m\n\u001b[0m\u001b[1;32m    832\u001b[0m         \u001b[0mself\u001b[0m\u001b[1;33m.\u001b[0m\u001b[0mset_paths\u001b[0m\u001b[1;33m(\u001b[0m\u001b[0mpaths\u001b[0m\u001b[1;33m)\u001b[0m\u001b[1;33m\u001b[0m\u001b[0m\n\u001b[1;32m    833\u001b[0m         \u001b[0mself\u001b[0m\u001b[1;33m.\u001b[0m\u001b[0mset_sizes\u001b[0m\u001b[1;33m(\u001b[0m\u001b[0msizes\u001b[0m\u001b[1;33m)\u001b[0m\u001b[1;33m\u001b[0m\u001b[0m\n",
      "\u001b[0;32mC:\\Users\\Rebecca\\Anaconda3\\lib\\site-packages\\matplotlib\\collections.py\u001b[0m in \u001b[0;36m__init__\u001b[0;34m(self, edgecolors, facecolors, linewidths, linestyles, antialiaseds, offsets, transOffset, norm, cmap, pickradius, hatch, urls, offset_position, zorder, **kwargs)\u001b[0m\n\u001b[1;32m    115\u001b[0m \u001b[1;33m\u001b[0m\u001b[0m\n\u001b[1;32m    116\u001b[0m         \u001b[0mself\u001b[0m\u001b[1;33m.\u001b[0m\u001b[0mset_edgecolor\u001b[0m\u001b[1;33m(\u001b[0m\u001b[0medgecolors\u001b[0m\u001b[1;33m)\u001b[0m\u001b[1;33m\u001b[0m\u001b[0m\n\u001b[0;32m--> 117\u001b[0;31m         \u001b[0mself\u001b[0m\u001b[1;33m.\u001b[0m\u001b[0mset_facecolor\u001b[0m\u001b[1;33m(\u001b[0m\u001b[0mfacecolors\u001b[0m\u001b[1;33m)\u001b[0m\u001b[1;33m\u001b[0m\u001b[0m\n\u001b[0m\u001b[1;32m    118\u001b[0m         \u001b[0mself\u001b[0m\u001b[1;33m.\u001b[0m\u001b[0mset_linewidth\u001b[0m\u001b[1;33m(\u001b[0m\u001b[0mlinewidths\u001b[0m\u001b[1;33m)\u001b[0m\u001b[1;33m\u001b[0m\u001b[0m\n\u001b[1;32m    119\u001b[0m         \u001b[0mself\u001b[0m\u001b[1;33m.\u001b[0m\u001b[0mset_linestyle\u001b[0m\u001b[1;33m(\u001b[0m\u001b[0mlinestyles\u001b[0m\u001b[1;33m)\u001b[0m\u001b[1;33m\u001b[0m\u001b[0m\n",
      "\u001b[0;32mC:\\Users\\Rebecca\\Anaconda3\\lib\\site-packages\\matplotlib\\collections.py\u001b[0m in \u001b[0;36mset_facecolor\u001b[0;34m(self, c)\u001b[0m\n\u001b[1;32m    610\u001b[0m             \u001b[0mc\u001b[0m \u001b[1;33m=\u001b[0m \u001b[0mmpl\u001b[0m\u001b[1;33m.\u001b[0m\u001b[0mrcParams\u001b[0m\u001b[1;33m[\u001b[0m\u001b[1;34m'patch.facecolor'\u001b[0m\u001b[1;33m]\u001b[0m\u001b[1;33m\u001b[0m\u001b[0m\n\u001b[1;32m    611\u001b[0m         \u001b[0mself\u001b[0m\u001b[1;33m.\u001b[0m\u001b[0m_facecolors_original\u001b[0m \u001b[1;33m=\u001b[0m \u001b[0mc\u001b[0m\u001b[1;33m\u001b[0m\u001b[0m\n\u001b[0;32m--> 612\u001b[0;31m         \u001b[0mself\u001b[0m\u001b[1;33m.\u001b[0m\u001b[0m_facecolors\u001b[0m \u001b[1;33m=\u001b[0m \u001b[0mmcolors\u001b[0m\u001b[1;33m.\u001b[0m\u001b[0mcolorConverter\u001b[0m\u001b[1;33m.\u001b[0m\u001b[0mto_rgba_array\u001b[0m\u001b[1;33m(\u001b[0m\u001b[0mc\u001b[0m\u001b[1;33m,\u001b[0m \u001b[0mself\u001b[0m\u001b[1;33m.\u001b[0m\u001b[0m_alpha\u001b[0m\u001b[1;33m)\u001b[0m\u001b[1;33m\u001b[0m\u001b[0m\n\u001b[0m\u001b[1;32m    613\u001b[0m         \u001b[0mself\u001b[0m\u001b[1;33m.\u001b[0m\u001b[0mstale\u001b[0m \u001b[1;33m=\u001b[0m \u001b[1;32mTrue\u001b[0m\u001b[1;33m\u001b[0m\u001b[0m\n\u001b[1;32m    614\u001b[0m \u001b[1;33m\u001b[0m\u001b[0m\n",
      "\u001b[0;32mC:\\Users\\Rebecca\\Anaconda3\\lib\\site-packages\\matplotlib\\colors.py\u001b[0m in \u001b[0;36mto_rgba_array\u001b[0;34m(self, c, alpha)\u001b[0m\n\u001b[1;32m    420\u001b[0m             \u001b[0mresult\u001b[0m \u001b[1;33m=\u001b[0m \u001b[0mnp\u001b[0m\u001b[1;33m.\u001b[0m\u001b[0mzeros\u001b[0m\u001b[1;33m(\u001b[0m\u001b[1;33m(\u001b[0m\u001b[0mnc\u001b[0m\u001b[1;33m,\u001b[0m \u001b[1;36m4\u001b[0m\u001b[1;33m)\u001b[0m\u001b[1;33m,\u001b[0m \u001b[0mdtype\u001b[0m\u001b[1;33m=\u001b[0m\u001b[0mnp\u001b[0m\u001b[1;33m.\u001b[0m\u001b[0mfloat\u001b[0m\u001b[1;33m)\u001b[0m\u001b[1;33m\u001b[0m\u001b[0m\n\u001b[1;32m    421\u001b[0m             \u001b[1;32mfor\u001b[0m \u001b[0mi\u001b[0m\u001b[1;33m,\u001b[0m \u001b[0mcc\u001b[0m \u001b[1;32min\u001b[0m \u001b[0menumerate\u001b[0m\u001b[1;33m(\u001b[0m\u001b[0mc\u001b[0m\u001b[1;33m)\u001b[0m\u001b[1;33m:\u001b[0m\u001b[1;33m\u001b[0m\u001b[0m\n\u001b[0;32m--> 422\u001b[0;31m                 \u001b[0mresult\u001b[0m\u001b[1;33m[\u001b[0m\u001b[0mi\u001b[0m\u001b[1;33m]\u001b[0m \u001b[1;33m=\u001b[0m \u001b[0mself\u001b[0m\u001b[1;33m.\u001b[0m\u001b[0mto_rgba\u001b[0m\u001b[1;33m(\u001b[0m\u001b[0mcc\u001b[0m\u001b[1;33m,\u001b[0m \u001b[0malpha\u001b[0m\u001b[1;33m)\u001b[0m\u001b[1;33m\u001b[0m\u001b[0m\n\u001b[0m\u001b[1;32m    423\u001b[0m             \u001b[1;32mreturn\u001b[0m \u001b[0mresult\u001b[0m\u001b[1;33m\u001b[0m\u001b[0m\n\u001b[1;32m    424\u001b[0m \u001b[1;33m\u001b[0m\u001b[0m\n",
      "\u001b[0;32mC:\\Users\\Rebecca\\Anaconda3\\lib\\site-packages\\matplotlib\\colors.py\u001b[0m in \u001b[0;36mto_rgba\u001b[0;34m(self, arg, alpha)\u001b[0m\n\u001b[1;32m    374\u001b[0m         \u001b[1;32mexcept\u001b[0m \u001b[1;33m(\u001b[0m\u001b[0mTypeError\u001b[0m\u001b[1;33m,\u001b[0m \u001b[0mValueError\u001b[0m\u001b[1;33m)\u001b[0m \u001b[1;32mas\u001b[0m \u001b[0mexc\u001b[0m\u001b[1;33m:\u001b[0m\u001b[1;33m\u001b[0m\u001b[0m\n\u001b[1;32m    375\u001b[0m             raise ValueError(\n\u001b[0;32m--> 376\u001b[0;31m                 'to_rgba: Invalid rgba arg \"%s\"\\n%s' % (str(arg), exc))\n\u001b[0m\u001b[1;32m    377\u001b[0m \u001b[1;33m\u001b[0m\u001b[0m\n\u001b[1;32m    378\u001b[0m     \u001b[1;32mdef\u001b[0m \u001b[0mto_rgba_array\u001b[0m\u001b[1;33m(\u001b[0m\u001b[0mself\u001b[0m\u001b[1;33m,\u001b[0m \u001b[0mc\u001b[0m\u001b[1;33m,\u001b[0m \u001b[0malpha\u001b[0m\u001b[1;33m=\u001b[0m\u001b[1;32mNone\u001b[0m\u001b[1;33m)\u001b[0m\u001b[1;33m:\u001b[0m\u001b[1;33m\u001b[0m\u001b[0m\n",
      "\u001b[0;31mValueError\u001b[0m: to_rgba: Invalid rgba arg \"0\"\nto_rgb: Invalid rgb arg \"0\"\ncannot convert argument to rgb sequence"
     ]
    }
   ],
   "source": [
    "def plot_rbf(x, y, z, XI, YI, ZI):\n",
    "    n = plt.Normalize(-2., 2.)\n",
    "    plt.subplot(1, 1, 1)\n",
    "    plt.pcolor(XI, YI, ZI, cmap=cm.jet)\n",
    "    plt.scatter(x, y, 100, z, cmap=cm.jet)\n",
    "    plt.title('RBF interpolation - multiquadrics')\n",
    "    #plt.xlim(-2, 2)\n",
    "    #plt.ylim(-2, 2)\n",
    "    plt.colorbar()\n",
    "    plt.show()\n",
    "    \n",
    "plot_rbf(x, y, t, XI, YI, ZI)"
   ]
  },
  {
   "cell_type": "code",
   "execution_count": null,
   "metadata": {
    "collapsed": false
   },
   "outputs": [],
   "source": [
    "def plot_griddata(grid_z, points,x_lim=LONG_LIMITS, y_lim=LAT_LIMITS, title='Linear'):\n",
    "    plt.subplot(121)\n",
    "    #plt.imshow(func(grid_x, grid_y).T, extent=(0,1,0,1), origin='lower')\n",
    "    n = plt.Normalize(-2., 2.)\n",
    "    plt.plot(points[:,0], points[:,1], 'k.', ms=1)\n",
    "    plt.title('Original')\n",
    "    plt.subplot(122)\n",
    "    plt.imshow(grid_z.T, extent=(x_lim[0],x_lim[1], y_lim[0], y_lim[1]), origin='lower')\n",
    "    plt.title(title)\n",
    "    # plt.subplot(223)\n",
    "    # plt.imshow(grid_z1.T, extent=(x_lim[0],x_lim[1], y_lim[0], y_lim[1]), origin='lower')\n",
    "    # plt.title('Linear')\n",
    "    # plt.subplot(224)\n",
    "    # plt.imshow(grid_z2.T, extent=(x_lim[0],x_lim[1], y_lim[0], y_lim[1]), origin='lower')\n",
    "    # plt.title('Cubic')\n",
    "    plt.gcf().set_size_inches(6, 6)\n",
    "\n",
    "    plt.show()\n",
    "    \n"
   ]
  },
  {
   "cell_type": "code",
   "execution_count": null,
   "metadata": {
    "collapsed": false
   },
   "outputs": [],
   "source": [
    "#def get_griddata(points_per_degree=3,LONG_LIMITS,LAT_LIMITS):\n",
    "#    x, y, z = get_station_xyz('station_locations.csv')         \n",
    "#    points = np.array([x, y]).T\n",
    "#    grid_x, grid_y = np.mgrid[LONG_LIMITS[0]:LONG_LIMITS[1]:complex(points_per_degree * (LONG_LIMITS[1] - LONG_LIMITS[0])), LAT_LIMITS[0]:LAT_LIMITS[1]:complex(points_per_degree * (LAT_LIMITS[1] - LAT_LIMITS[0]))]\n",
    "#    grid_z = griddata(points, np.array(z), (grid_x, grid_y), method='linear')\n",
    "#    print('Grid shape: %s from %d station readings'%(repr(grid_z.shape), len(x))) \n",
    "#    return grid_x, grid_y, grid_z, points\n",
    "\n",
    "#grid_x, grid_y, grid_z, points = get_griddata()\n",
    "#plot_griddata(z, points)\n"
   ]
  },
  {
   "cell_type": "code",
   "execution_count": null,
   "metadata": {
    "collapsed": false
   },
   "outputs": [],
   "source": [
    "#im!{sys.executable} -m pip install geojson"
   ]
  },
  {
   "cell_type": "code",
   "execution_count": null,
   "metadata": {
    "collapsed": false
   },
   "outputs": [],
   "source": []
  },
  {
   "cell_type": "code",
   "execution_count": null,
   "metadata": {
    "collapsed": true
   },
   "outputs": [],
   "source": []
  },
  {
   "cell_type": "code",
   "execution_count": null,
   "metadata": {
    "collapsed": true
   },
   "outputs": [],
   "source": []
  },
  {
   "cell_type": "code",
   "execution_count": null,
   "metadata": {
    "collapsed": true
   },
   "outputs": [],
   "source": []
  },
  {
   "cell_type": "code",
   "execution_count": null,
   "metadata": {
    "collapsed": true
   },
   "outputs": [],
   "source": []
  },
  {
   "cell_type": "code",
   "execution_count": null,
   "metadata": {
    "collapsed": true
   },
   "outputs": [],
   "source": []
  }
 ],
 "metadata": {
  "anaconda-cloud": {},
  "kernelspec": {
   "display_name": "Python 3",
   "language": "python",
   "name": "python3"
  },
  "language_info": {
   "codemirror_mode": {
    "name": "ipython",
    "version": 3
   },
   "file_extension": ".py",
   "mimetype": "text/x-python",
   "name": "python",
   "nbconvert_exporter": "python",
   "pygments_lexer": "ipython3",
   "version": "3.5.2"
  }
 },
 "nbformat": 4,
 "nbformat_minor": 1
}
